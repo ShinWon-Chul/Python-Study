{
 "cells": [
  {
   "cell_type": "markdown",
   "metadata": {},
   "source": [
    "#### 메소드 오버라이딩"
   ]
  },
  {
   "cell_type": "code",
   "execution_count": 21,
   "metadata": {},
   "outputs": [
    {
     "name": "stdout",
     "output_type": "stream",
     "text": [
      "50\n"
     ]
    }
   ],
   "source": [
    "class Parent():\n",
    "    def __init__(self):\n",
    "        self.value = 5\n",
    "\n",
    "    def get_value(self):\n",
    "        return self.value\n",
    "\n",
    "\n",
    "class Child(ParentEx2):\n",
    "    def get_value(self):  # 메소드 변경 => 메소드 오버라이딩\n",
    "        return self.value * 10\n",
    "\n",
    "\n",
    "c = Child()\n",
    "print(c.get_value())"
   ]
  },
  {
   "cell_type": "markdown",
   "metadata": {},
   "source": [
    "#### 메소드 오버라이딩(다형성)"
   ]
  },
  {
   "cell_type": "code",
   "execution_count": 12,
   "metadata": {},
   "outputs": [],
   "source": [
    "import datetime\n",
    "\n",
    "# 부모 클래스\n",
    "class Logger():\n",
    "    def log(self, msg):\n",
    "        print(msg)\n",
    "\n",
    "# Logger의 TimestampLogger라는 자식 (자식1)\n",
    "class TimestampLogger(Logger):\n",
    "    def log(self, msg):\n",
    "        message = '{ts} {msg}'.format(ts=datetime.datetime.now(), msg=msg)\n",
    "        super().log(message) # 부모클래스의 log() 메소드로 message인자를 넘김\n",
    "        # super(TimestampLogger, self).log(message) # 위 코드와 다를 바 없지만 더 명확하다, # fm style 로 코딩한 것\n",
    "\n",
    "\n",
    "# Logger의 DateLogger라는 자식 (자식2) ==> 여러 자식 생김 : 다형성\n",
    "class DateLogger(Logger):\n",
    "    def log(self, msg):\n",
    "        message = \"{ts} {msg}\".format(ts=datetime.datetime.now().strftime('%Y-%m-%d'), msg=msg)\n",
    "        super().log(message)"
   ]
  },
  {
   "cell_type": "code",
   "execution_count": 13,
   "metadata": {},
   "outputs": [
    {
     "name": "stdout",
     "output_type": "stream",
     "text": [
      "test1\n",
      "2022-01-21 19:14:56.255222 test2\n",
      "2022-01-21 test3\n"
     ]
    }
   ],
   "source": [
    "# 뼈대는 부모가 제공 <출력 기능 print(msg)> => 출력할 메세지의 형태는 자식이 결정\n",
    "l = Logger()\n",
    "t = TimestampLogger()\n",
    "d = DateLogger()\n",
    "# 인스턴스 생성되면서, 부모클래스의 속성 상속 완료\n",
    "\n",
    "\n",
    "l.log('test1')\n",
    "t.log('test2')\n",
    "d.log('test3')\n"
   ]
  },
  {
   "cell_type": "markdown",
   "metadata": {},
   "source": [
    "#### 메소드 오버로딩"
   ]
  },
  {
   "cell_type": "code",
   "execution_count": 23,
   "metadata": {},
   "outputs": [
    {
     "name": "stdout",
     "output_type": "stream",
     "text": [
      "14\n",
      "HelloWorld\n"
     ]
    }
   ],
   "source": [
    "class Sample():\n",
    "    def add(self, datatype, *args):\n",
    "        if datatype == 'int':\n",
    "            return sum(args)\n",
    "        if datatype == 'str':\n",
    "            return ''.join([x for x in args])\n",
    "\n",
    "s = Sample()\n",
    "# Number\n",
    "print(s.add('int', 5, 6, 3))\n",
    "print(s.add('str', 'Hello', 'World'))"
   ]
  },
  {
   "cell_type": "code",
   "execution_count": 25,
   "metadata": {},
   "outputs": [
    {
     "name": "stdout",
     "output_type": "stream",
     "text": [
      "12\n",
      "60\n",
      "16.8\n"
     ]
    }
   ],
   "source": [
    "from multipledispatch import dispatch\n",
    "class Sample():\n",
    "    @dispatch(int, int)\n",
    "    def product(self, x, y):\n",
    "        return x * y\n",
    "\n",
    "    @dispatch(int, int, int)\n",
    "    def product(self, x, y, z):\n",
    "        return x * y * z\n",
    "\n",
    "    @dispatch(float, float, float)\n",
    "    def product(self, x, y, z):\n",
    "        return x * y * z\n",
    "\n",
    "s = Sample()\n",
    "\n",
    "# 파라미터 2개\n",
    "print(s.product(3, 4))\n",
    "\n",
    "# 파라미터 3개\n",
    "print(s.product(3, 4, 5))\n",
    "\n",
    "# 파라미터 3개 자료형 float\n",
    "print(s.product(3.5, 4.0, 1.2))\n"
   ]
  },
  {
   "cell_type": "code",
   "execution_count": null,
   "metadata": {},
   "outputs": [],
   "source": []
  }
 ],
 "metadata": {
  "kernelspec": {
   "display_name": "Python 3",
   "language": "python",
   "name": "python3"
  },
  "language_info": {
   "codemirror_mode": {
    "name": "ipython",
    "version": 3
   },
   "file_extension": ".py",
   "mimetype": "text/x-python",
   "name": "python",
   "nbconvert_exporter": "python",
   "pygments_lexer": "ipython3",
   "version": "3.7.3"
  }
 },
 "nbformat": 4,
 "nbformat_minor": 2
}
