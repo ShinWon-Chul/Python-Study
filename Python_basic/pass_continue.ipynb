{
 "cells": [
  {
   "cell_type": "markdown",
   "metadata": {},
   "source": [
    "#### Pass와 Continue의 차이"
   ]
  },
  {
   "cell_type": "code",
   "execution_count": 1,
   "metadata": {},
   "outputs": [
    {
     "name": "stdout",
     "output_type": "stream",
     "text": [
      "1\n",
      "pass\n",
      "2\n",
      "pass\n",
      "3\n",
      "pass\n",
      "4\n",
      "5\n",
      "6\n"
     ]
    }
   ],
   "source": [
    "arr1 = [1,2,3]\n",
    "for i in arr1:\n",
    "    if i :\n",
    "        print(i)\n",
    "        pass\n",
    "    print('pass')\n",
    "    \n",
    "arr2 = [4,5,6]\n",
    "for i in arr2:\n",
    "    if i :\n",
    "        print(i)\n",
    "        continue\n",
    "    print('continue')"
   ]
  },
  {
   "cell_type": "markdown",
   "metadata": {},
   "source": [
    "#### pass 사용 이유"
   ]
  },
  {
   "cell_type": "code",
   "execution_count": 1,
   "metadata": {},
   "outputs": [],
   "source": [
    "#사용자가 나중에 코드를 추가하려는 경우pass문을 사용하는 방법\n",
    "def myfunc(x):\n",
    "    if x > 0:\n",
    "        print('Input is greater than zero')\n",
    "    else:\n",
    "        #add code here\n",
    "        pass"
   ]
  },
  {
   "cell_type": "code",
   "execution_count": 3,
   "metadata": {},
   "outputs": [],
   "source": [
    "#pass문을 사용하여 아래 제공된 예제 코드에 설명 된대로 Python에서 예외를 무시\n",
    "def divide(x, y):\n",
    "    z = None\n",
    "    try:\n",
    "        z = x/y\n",
    "    except:\n",
    "        pass\n",
    "    return z\n",
    "\n",
    "divide(6,0)"
   ]
  }
 ],
 "metadata": {
  "kernelspec": {
   "display_name": "Python 3",
   "language": "python",
   "name": "python3"
  },
  "language_info": {
   "codemirror_mode": {
    "name": "ipython",
    "version": 3
   },
   "file_extension": ".py",
   "mimetype": "text/x-python",
   "name": "python",
   "nbconvert_exporter": "python",
   "pygments_lexer": "ipython3",
   "version": "3.7.3"
  }
 },
 "nbformat": 4,
 "nbformat_minor": 2
}
