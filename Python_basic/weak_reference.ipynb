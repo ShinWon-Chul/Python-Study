{
 "cells": [
  {
   "cell_type": "markdown",
   "metadata": {},
   "source": [
    "#### Weak reference"
   ]
  },
  {
   "cell_type": "code",
   "execution_count": 1,
   "metadata": {},
   "outputs": [
    {
     "name": "stdout",
     "output_type": "stream",
     "text": [
      "Object(7fde500ee790) is being destroyed.\n",
      "None\n",
      "Object(7fde500ee650) is being destroyed.\n",
      "Object(7fde500eec50) is being destroyed.\n"
     ]
    }
   ],
   "source": [
    "import weakref\n",
    "\n",
    "class Foo:\n",
    "    def __init__(self):\n",
    "        self.value = 1\n",
    "        self.friend = None\n",
    "    def __del__(self):\n",
    "        ## 여기서 딱히 friend 속성을 정리하지 않는다.\n",
    "        print(f'Object({id(self):x}) is being destroyed.')\n",
    "\n",
    "## 테스트\n",
    "a, b = Foo(), Foo()\n",
    "## 각각의 객체를 약한 참조를 이용해서 할당한다.\n",
    "a.friend = weakref.ref(b)\n",
    "b.friend = weakref.ref(a)\n",
    "## 객체를 지워본다.\n",
    "b = None\n",
    "print(a.friend())    ## 제거된 대상을 액세스하려하면 None이 리턴된다.\n",
    "a = None\n",
    "## 자가 참조에 대해서도 테스트\n",
    "c = Foo()\n",
    "c.friend = weakref.ref(c)\n",
    "c = None "
   ]
  },
  {
   "cell_type": "markdown",
   "metadata": {},
   "source": [
    "#### @Property 데코레이터의 접근자 호출을 활용한 weak reference"
   ]
  },
  {
   "cell_type": "code",
   "execution_count": 2,
   "metadata": {},
   "outputs": [
    {
     "name": "stdout",
     "output_type": "stream",
     "text": [
      "7fde500f6550 is being destroyed.\n",
      "7fde500f6750 is being destroyed.\n",
      "7fde500f6790 is being destroyed.\n"
     ]
    }
   ],
   "source": [
    "import weakref\n",
    "\n",
    "class ConvenientFoo:\n",
    "    def __init__(self):\n",
    "        self.value = 1\n",
    "        self._friend = None\n",
    " \n",
    "    @property\n",
    "    def friend(self):\n",
    "        if self._friend is None:\n",
    "            return None\n",
    "        return self._friend()\n",
    "\n",
    "    @friend.setter\n",
    "    def friend(self, target):\n",
    "        self._friend = weakref.ref(target)\n",
    "\n",
    "    def __del__(self):\n",
    "        print(f'{id(self):x} is being destroyed.')\n",
    "\n",
    "## 테스트\n",
    "a, b, c = [ConvenientFoo() for _ in range(3)]\n",
    "a.friend = b\n",
    "b.friend = a\n",
    "c.friend = c\n",
    "a = None\n",
    "b = None\n",
    "c = None"
   ]
  },
  {
   "cell_type": "code",
   "execution_count": null,
   "metadata": {},
   "outputs": [],
   "source": []
  }
 ],
 "metadata": {
  "kernelspec": {
   "display_name": "Python 3",
   "language": "python",
   "name": "python3"
  },
  "language_info": {
   "codemirror_mode": {
    "name": "ipython",
    "version": 3
   },
   "file_extension": ".py",
   "mimetype": "text/x-python",
   "name": "python",
   "nbconvert_exporter": "python",
   "pygments_lexer": "ipython3",
   "version": "3.7.4"
  }
 },
 "nbformat": 4,
 "nbformat_minor": 2
}
